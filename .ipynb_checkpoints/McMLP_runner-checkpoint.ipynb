{
 "cells": [
  {
   "cell_type": "code",
   "execution_count": 1,
   "metadata": {},
   "outputs": [],
   "source": [
    "import pandas as pd\n",
    "import numpy as np\n",
    "import math\n",
    "import random\n",
    "import matplotlib\n",
    "import matplotlib.pyplot as plt\n",
    "import os\n"
   ]
  },
  {
   "cell_type": "markdown",
   "metadata": {},
   "source": [
    "### SCFAs with baseline metabolomic profiles (Avocado dataset)"
   ]
  },
  {
   "cell_type": "code",
   "execution_count": 14,
   "metadata": {},
   "outputs": [
    {
     "name": "stdout",
     "output_type": "stream",
     "text": [
      "0 ./data/avocado_SCFAs/processed_data/ True\n",
      "==================================================\n",
      "The mean Spearman C.C. for all metabolites is\n",
      "0.3809532508105187\n",
      "1 ./data/avocado_SCFAs/processed_data/ True\n",
      "==================================================\n",
      "The mean Spearman C.C. for all metabolites is\n",
      "0.30545380545380546\n",
      "2 ./data/avocado_SCFAs/processed_data/ True\n",
      "==================================================\n",
      "The mean Spearman C.C. for all metabolites is\n",
      "0.3434757834757835\n",
      "3 ./data/avocado_SCFAs/processed_data/ True\n",
      "==================================================\n",
      "The mean Spearman C.C. for all metabolites is\n",
      "0.24273504273504273\n",
      "4 ./data/avocado_SCFAs/processed_data/ True\n",
      "==================================================\n",
      "The mean Spearman C.C. for all metabolites is\n",
      "0.5567223387692161\n"
     ]
    }
   ],
   "source": [
    "import sys\n",
    "Nsplits = 5\n",
    "for i_split in range(Nsplits):\n",
    "    sys.argv = [\"\", i_split, \"./data/avocado_SCFAs/processed_data/\", True]\n",
    "    exec(open(\"./McMLP.py\").read())\n",
    "    "
   ]
  },
  {
   "cell_type": "code",
   "execution_count": 13,
   "metadata": {},
   "outputs": [
    {
     "name": "stdout",
     "output_type": "stream",
     "text": [
      "./data/avocado_SCFAs/processed_data/ True\n",
      "The sensitivities are saved.\n"
     ]
    }
   ],
   "source": [
    "import sys\n",
    "sys.argv = [\"\", \"./data/avocado_SCFAs/processed_data/\", True]\n",
    "exec(open(\"./McMLP_inferring_interactions.py\").read())\n"
   ]
  },
  {
   "cell_type": "markdown",
   "metadata": {},
   "source": [
    "### SCFAs without baseline metabolomic profiles (Avocado dataset)"
   ]
  },
  {
   "cell_type": "code",
   "execution_count": 15,
   "metadata": {},
   "outputs": [
    {
     "name": "stdout",
     "output_type": "stream",
     "text": [
      "0 ./data/avocado_SCFAs/processed_data/ False\n",
      "==================================================\n",
      "The mean Spearman C.C. for all metabolites is\n",
      "0.24766027578790273\n",
      "1 ./data/avocado_SCFAs/processed_data/ False\n",
      "==================================================\n",
      "The mean Spearman C.C. for all metabolites is\n",
      "0.31359381359381355\n",
      "2 ./data/avocado_SCFAs/processed_data/ False\n",
      "==================================================\n",
      "The mean Spearman C.C. for all metabolites is\n",
      "0.3912250712250713\n",
      "3 ./data/avocado_SCFAs/processed_data/ False\n",
      "==================================================\n",
      "The mean Spearman C.C. for all metabolites is\n",
      "0.21891737891737892\n",
      "4 ./data/avocado_SCFAs/processed_data/ False\n",
      "==================================================\n",
      "The mean Spearman C.C. for all metabolites is\n",
      "0.41443640429891154\n"
     ]
    }
   ],
   "source": [
    "import sys\n",
    "Nsplits = 5\n",
    "for i_split in range(Nsplits):\n",
    "    sys.argv = [\"\", i_split, \"./data/avocado_SCFAs/processed_data/\", False]\n",
    "    exec(open(\"./McMLP.py\").read())\n",
    "    "
   ]
  },
  {
   "cell_type": "code",
   "execution_count": null,
   "metadata": {},
   "outputs": [],
   "source": []
  },
  {
   "cell_type": "code",
   "execution_count": null,
   "metadata": {},
   "outputs": [],
   "source": []
  }
 ],
 "metadata": {
  "kernel_info": {
   "name": "python3"
  },
  "kernelspec": {
   "display_name": "Python 3",
   "language": "python",
   "name": "python3"
  },
  "language_info": {
   "codemirror_mode": {
    "name": "ipython",
    "version": 3
   },
   "file_extension": ".py",
   "mimetype": "text/x-python",
   "name": "python",
   "nbconvert_exporter": "python",
   "pygments_lexer": "ipython3",
   "version": "3.8.8"
  },
  "nteract": {
   "version": "0.28.0"
  }
 },
 "nbformat": 4,
 "nbformat_minor": 2
}
