{
 "cells": [
  {
   "cell_type": "code",
   "execution_count": 1,
   "metadata": {},
   "outputs": [],
   "source": [
    "import pandas as pd\n",
    "import numpy as np\n",
    "import math\n",
    "import random\n",
    "import matplotlib\n",
    "import matplotlib.pyplot as plt\n",
    "import os\n",
    "\n",
    "#%% Plot Tong's default setting\n",
    "SMALL_SIZE = 12\n",
    "MEDIUM_SIZE = 15\n",
    "BIGGER_SIZE = 15\n",
    "\n",
    "plt.rc('font', size=SMALL_SIZE, family='sans-serif', serif='Arial')          # controls default text sizes\n",
    "plt.rc('axes', titlesize=BIGGER_SIZE)     # fontsize of the axes title\n",
    "plt.rc('axes', labelsize=MEDIUM_SIZE)    # fontsize of the x and y labels\n",
    "plt.rc('xtick', labelsize=SMALL_SIZE)    # fontsize of the tick labels\n",
    "plt.rc('ytick', labelsize=SMALL_SIZE)    # fontsize of the tick labels\n",
    "plt.rc('legend', fontsize=SMALL_SIZE)    # legend fontsize\n",
    "plt.rc('figure', titlesize=BIGGER_SIZE)  # fontsize of the figure title\n",
    "plt.rc('text')\n",
    "\n",
    "from matplotlib.ticker import MaxNLocator\n",
    "my_locator = MaxNLocator(6)\n",
    "\n",
    "color_list = ['#1f77b4', '#ff7f0e', '#2ca02c', '#d62728', '#9467bd']\n",
    "\n",
    "def figure_size_setting(WIDTH):\n",
    "    #WIDTH = 700.0  # the number latex spits out\n",
    "    FACTOR = 0.8  # the fraction of the width you'd like the figure to occupy\n",
    "    fig_width_pt  = WIDTH * FACTOR\n",
    "    inches_per_pt = 1.0 / 72.27\n",
    "    golden_ratio  = (np.sqrt(5) - 1.0) / 2.0  # because it looks good\n",
    "    fig_width_in  = fig_width_pt * inches_per_pt  # figure width in inches\n",
    "    fig_height_in = fig_width_in * golden_ratio   # figure height in inches\n",
    "    fig_dims    = [fig_width_in, fig_height_in] # fig dims as a list\n",
    "    return fig_dims\n"
   ]
  },
  {
   "cell_type": "markdown",
   "metadata": {},
   "source": [
    "### SCFAs with baseline metabolomic profiles (Avocado dataset)"
   ]
  },
  {
   "cell_type": "code",
   "execution_count": 14,
   "metadata": {},
   "outputs": [
    {
     "name": "stdout",
     "output_type": "stream",
     "text": [
      "0 ./data/avocado_SCFAs/processed_data/ True\n",
      "==================================================\n",
      "The mean Spearman C.C. for all metabolites is\n",
      "0.3809532508105187\n",
      "1 ./data/avocado_SCFAs/processed_data/ True\n",
      "==================================================\n",
      "The mean Spearman C.C. for all metabolites is\n",
      "0.30545380545380546\n",
      "2 ./data/avocado_SCFAs/processed_data/ True\n",
      "==================================================\n",
      "The mean Spearman C.C. for all metabolites is\n",
      "0.3434757834757835\n",
      "3 ./data/avocado_SCFAs/processed_data/ True\n",
      "==================================================\n",
      "The mean Spearman C.C. for all metabolites is\n",
      "0.24273504273504273\n",
      "4 ./data/avocado_SCFAs/processed_data/ True\n",
      "==================================================\n",
      "The mean Spearman C.C. for all metabolites is\n",
      "0.5567223387692161\n"
     ]
    }
   ],
   "source": [
    "import sys\n",
    "Nsplits = 5\n",
    "for i_split in range(Nsplits):\n",
    "    sys.argv = [\"\", i_split, \"./data/avocado_SCFAs/processed_data/\", True]\n",
    "    exec(open(\"./McMLP.py\").read())\n",
    "    "
   ]
  },
  {
   "cell_type": "code",
   "execution_count": 13,
   "metadata": {},
   "outputs": [
    {
     "name": "stdout",
     "output_type": "stream",
     "text": [
      "./data/avocado_SCFAs/processed_data/ True\n",
      "The sensitivities are saved.\n"
     ]
    }
   ],
   "source": [
    "import sys\n",
    "sys.argv = [\"\", \"./data/avocado_SCFAs/processed_data/\", True]\n",
    "exec(open(\"./McMLP_inferring_interactions.py\").read())\n"
   ]
  },
  {
   "cell_type": "markdown",
   "metadata": {},
   "source": [
    "### SCFAs without baseline metabolomic profiles (Avocado dataset)"
   ]
  },
  {
   "cell_type": "code",
   "execution_count": 15,
   "metadata": {},
   "outputs": [
    {
     "name": "stdout",
     "output_type": "stream",
     "text": [
      "0 ./data/avocado_SCFAs/processed_data/ False\n",
      "==================================================\n",
      "The mean Spearman C.C. for all metabolites is\n",
      "0.24766027578790273\n",
      "1 ./data/avocado_SCFAs/processed_data/ False\n",
      "==================================================\n",
      "The mean Spearman C.C. for all metabolites is\n",
      "0.31359381359381355\n",
      "2 ./data/avocado_SCFAs/processed_data/ False\n",
      "==================================================\n",
      "The mean Spearman C.C. for all metabolites is\n",
      "0.3912250712250713\n",
      "3 ./data/avocado_SCFAs/processed_data/ False\n",
      "==================================================\n",
      "The mean Spearman C.C. for all metabolites is\n",
      "0.21891737891737892\n",
      "4 ./data/avocado_SCFAs/processed_data/ False\n",
      "==================================================\n",
      "The mean Spearman C.C. for all metabolites is\n",
      "0.41443640429891154\n"
     ]
    }
   ],
   "source": [
    "import sys\n",
    "Nsplits = 5\n",
    "for i_split in range(Nsplits):\n",
    "    sys.argv = [\"\", i_split, \"./data/avocado_SCFAs/processed_data/\", False]\n",
    "    exec(open(\"./McMLP.py\").read())\n",
    "    "
   ]
  },
  {
   "cell_type": "code",
   "execution_count": null,
   "metadata": {},
   "outputs": [],
   "source": []
  },
  {
   "cell_type": "code",
   "execution_count": null,
   "metadata": {},
   "outputs": [],
   "source": []
  }
 ],
 "metadata": {
  "kernel_info": {
   "name": "python3"
  },
  "kernelspec": {
   "display_name": "Python 3",
   "language": "python",
   "name": "python3"
  },
  "language_info": {
   "codemirror_mode": {
    "name": "ipython",
    "version": 3
   },
   "file_extension": ".py",
   "mimetype": "text/x-python",
   "name": "python",
   "nbconvert_exporter": "python",
   "pygments_lexer": "ipython3",
   "version": "3.8.8"
  },
  "nteract": {
   "version": "0.28.0"
  }
 },
 "nbformat": 4,
 "nbformat_minor": 2
}
